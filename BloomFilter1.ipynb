{
 "cells": [
  {
   "cell_type": "code",
   "execution_count": 1,
   "metadata": {
    "colab": {},
    "colab_type": "code",
    "id": "vYDxXV0AbOWP"
   },
   "outputs": [],
   "source": [
    "#Imports\n",
    "import numpy as np\n",
    "import time"
   ]
  },
  {
   "cell_type": "code",
   "execution_count": 2,
   "metadata": {
    "colab": {},
    "colab_type": "code",
    "id": "wl4AVzAnbOWb"
   },
   "outputs": [],
   "source": [
    "#Defining 7 Hash Functions\n",
    "def hash1(astring, tablesize):\n",
    "    sum = 0\n",
    "    for pos in range(len(astring)):\n",
    "        sum = sum + ord(astring[pos])\n",
    "    return sum%tablesize\n",
    "def hash2(astring, tablesize):\n",
    "    sum = 0\n",
    "    for pos in range(len(astring)):\n",
    "        if pos%2 == 0:\n",
    "            sum = sum + ord(astring[pos])\n",
    "    return sum%tablesize\n",
    "def hash3(astring, tablesize):\n",
    "    sum = 0\n",
    "    for pos in range(len(astring)):\n",
    "        if pos%2 == 1:\n",
    "            sum = sum + ord(astring[pos])\n",
    "    return sum%tablesize\n",
    "def hash4(astring, tablesize):\n",
    "    sum = 0\n",
    "    for pos in range(len(astring)):\n",
    "        sum = sum + ord(astring[pos])**2\n",
    "    return sum%tablesize\n",
    "def hash5(astring, tablesize):\n",
    "    sum = 0\n",
    "    for pos in range(len(astring)):\n",
    "        if pos%2 == 0:\n",
    "            sum = sum + ord(astring[pos])**2\n",
    "    return sum%tablesize\n",
    "def hash6(astring, tablesize):\n",
    "    sum = 0\n",
    "    for pos in range(len(astring)):\n",
    "        if pos%2 == 1:\n",
    "            sum = sum + ord(astring[pos])**2\n",
    "    return sum%tablesize\n",
    "def hash7(astring, tablesize):\n",
    "    sum = 0\n",
    "    for pos in range(len(astring)):\n",
    "        if pos%2 == 1:\n",
    "            sum = sum + ord(astring[pos])**3\n",
    "    return sum%tablesize"
   ]
  },
  {
   "cell_type": "code",
   "execution_count": 18,
   "metadata": {
    "colab": {},
    "colab_type": "code",
    "id": "r6zLqWdCbOWf"
   },
   "outputs": [],
   "source": [
    "#Filter Function Arguments two passwords list and then size of the Filter\n",
    "def BloomFilter(passwords1, passwords2,m):\n",
    "    #size1 = len(passwords1)\n",
    "    #size2 = len(passwords2)\n",
    "    start = time.time()\n",
    "    #creating Bloom Filter initially everything will be 0\n",
    "    Filter = np.array([0]*m)\n",
    "    #passwords possibly present in the filter counter probably duplicates\n",
    "    maybe=0\n",
    "    # add all passwords1 to the filter\n",
    "    for i in range(0,size1):\n",
    "        temp=[]\n",
    "        temp.append(hash1(passwords1[i],m))\n",
    "        temp.append(hash2(passwords1[i],m))\n",
    "        temp.append(hash3(passwords1[i],m))\n",
    "        temp.append(hash4(passwords1[i],m))\n",
    "        temp.append(hash5(passwords1[i],m))\n",
    "        temp.append(hash6(passwords1[i],m))\n",
    "        temp.append(hash7(passwords1[i],m))\n",
    "        temp.sort()\n",
    "        #checking in Filter making the counter of the each position plus 1\n",
    "        for t in temp:\n",
    "            if Filter[t] != 1:\n",
    "                Filter[t]=1\n",
    "    # check all passwords2 presence in the filter\n",
    "    for i in range(0,size2):\n",
    "        temp=[]\n",
    "        #getting all hash values of each passwords\n",
    "        temp.append(hash1(passwords2[i],m))\n",
    "        temp.append(hash2(passwords2[i],m))\n",
    "        temp.append(hash3(passwords2[i],m))\n",
    "        temp.append(hash4(passwords2[i],m))\n",
    "        temp.append(hash5(passwords2[i],m))\n",
    "        temp.append(hash6(passwords2[i],m))\n",
    "        temp.append(hash7(passwords2[i],m))\n",
    "        temp.sort()\n",
    "        f=0\n",
    "        for t in set(temp):\n",
    "            if Filter[t]==0:\n",
    "                f=1\n",
    "        #only if all the values are 1 count the possibly present counter\n",
    "        if f==0:\n",
    "            maybe+=1\n",
    "        else:\n",
    "            pass\n",
    "            \n",
    "    end = time.time()\n",
    "    #print(end-start)\n",
    "    #print(Table)\n",
    "    #print(Filter)\n",
    "    # printing the final results including time taken\n",
    "    print('Number of hash function used: ', k)\n",
    "    print('Number of duplicates detected: ', maybe)\n",
    "    print('Probability of false positives: ', p)\n",
    "    print('Execution time: ', end-start)\n",
    "    "
   ]
  },
  {
   "cell_type": "code",
   "execution_count": 16,
   "metadata": {
    "colab": {},
    "colab_type": "code",
    "id": "I2aKMkSZbOWj"
   },
   "outputs": [],
   "source": [
    "#opening two files and reading \n",
    "with open(\"passwords1.txt\",\"r\") as p1:\n",
    "    passwords1 = p1.read()\n",
    "with open(\"passwords2.txt\",\"r\") as p2:\n",
    "    passwords2 = p2.read()"
   ]
  },
  {
   "cell_type": "code",
   "execution_count": 17,
   "metadata": {
    "colab": {},
    "colab_type": "code",
    "id": "zkJ5r-zHbOWm"
   },
   "outputs": [],
   "source": [
    "#making into a list of passwords\n",
    "passwords1 = passwords1.split()\n",
    "passwords2 = passwords2.split()"
   ]
  },
  {
   "cell_type": "code",
   "execution_count": 0,
   "metadata": {
    "colab": {},
    "colab_type": "code",
    "id": "LwpkuLwIbOWq",
    "outputId": "7ad71004-1e92-4dfd-f0ee-f584b28bfe14"
   },
   "outputs": [
    {
     "data": {
      "text/plain": [
       "100000000"
      ]
     },
     "execution_count": 3,
     "metadata": {
      "tags": []
     },
     "output_type": "execute_result"
    }
   ],
   "source": [
    "len(passwords1)"
   ]
  },
  {
   "cell_type": "code",
   "execution_count": 0,
   "metadata": {
    "colab": {},
    "colab_type": "code",
    "id": "FKpzqNkcbOWu",
    "outputId": "a2936f6e-c2f7-42da-ec96-3c2ba628195d"
   },
   "outputs": [
    {
     "data": {
      "text/plain": [
       "39000000"
      ]
     },
     "execution_count": 4,
     "metadata": {
      "tags": []
     },
     "output_type": "execute_result"
    }
   ],
   "source": [
    "len(passwords2)"
   ]
  },
  {
   "cell_type": "code",
   "execution_count": 11,
   "metadata": {
    "colab": {},
    "colab_type": "code",
    "id": "tjOjSW3FbOWx"
   },
   "outputs": [],
   "source": [
    "#as it is taking more time to calculate I have assign it manually and globally it will be accessible inside the method also\n",
    "n = size1 = 100000000 #len(passwords1) \n",
    "size2 = 39000000 #len(passwords2)"
   ]
  },
  {
   "cell_type": "code",
   "execution_count": 12,
   "metadata": {
    "colab": {},
    "colab_type": "code",
    "id": "uhRMbW4FbOWz"
   },
   "outputs": [],
   "source": [
    "#probability of false positive result\n",
    "p = 0.01"
   ]
  },
  {
   "cell_type": "code",
   "execution_count": 13,
   "metadata": {
    "colab": {},
    "colab_type": "code",
    "id": "KZRHJPSNbOW2",
    "outputId": "77e8fcf6-8970-4e7d-9705-cf46a3a43b88"
   },
   "outputs": [
    {
     "data": {
      "text/plain": [
       "958505838"
      ]
     },
     "execution_count": 13,
     "metadata": {},
     "output_type": "execute_result"
    }
   ],
   "source": [
    "#size of the Bloom filter by using formula\n",
    "m = int(round(-(n*np.log(p))/(np.log(2))**2))\n",
    "m"
   ]
  },
  {
   "cell_type": "code",
   "execution_count": 14,
   "metadata": {
    "colab": {},
    "colab_type": "code",
    "id": "74qx-Y7FbOW5",
    "outputId": "870a4fde-d2a1-4c8a-c222-5418626b114f"
   },
   "outputs": [
    {
     "data": {
      "text/plain": [
       "7"
      ]
     },
     "execution_count": 14,
     "metadata": {},
     "output_type": "execute_result"
    }
   ],
   "source": [
    "# Number of hash functions needed in order to achieve that percentage of false positive probability\n",
    "k = int(round((m/n)*np.log(2)))\n",
    "k"
   ]
  },
  {
   "cell_type": "code",
   "execution_count": 19,
   "metadata": {
    "colab": {},
    "colab_type": "code",
    "id": "btV5FfilbOXF",
    "outputId": "a1994aa2-6899-4958-d911-94c4ad277916"
   },
   "outputs": [
    {
     "name": "stdout",
     "output_type": "stream",
     "text": [
      "Number of hash function used:  7\n",
      "Number of duplicates detected:  38731159\n",
      "Probability of false positives:  0.01\n",
      "Execution time:  9227.42937374115\n"
     ]
    }
   ],
   "source": [
    "#calling the BloomFilter method to perform all activity\n",
    "BloomFilter(passwords1,passwords2 ,m)"
   ]
  }
 ],
 "metadata": {
  "colab": {
   "collapsed_sections": [],
   "name": "Bloom.ipynb",
   "provenance": []
  },
  "kernelspec": {
   "display_name": "Python 3",
   "language": "python",
   "name": "python3"
  },
  "language_info": {
   "codemirror_mode": {
    "name": "ipython",
    "version": 3
   },
   "file_extension": ".py",
   "mimetype": "text/x-python",
   "name": "python",
   "nbconvert_exporter": "python",
   "pygments_lexer": "ipython3",
   "version": "3.7.3"
  }
 },
 "nbformat": 4,
 "nbformat_minor": 1
}
