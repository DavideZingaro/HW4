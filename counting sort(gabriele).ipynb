{
 "cells": [
  {
   "cell_type": "markdown",
   "metadata": {},
   "source": [
    "# counting sort\n"
   ]
  },
  {
   "cell_type": "markdown",
   "metadata": {},
   "source": [
    "this algorithm is based on this video\n",
    "https://www.youtube.com/watch?v=TTnvXY82dtM"
   ]
  },
  {
   "cell_type": "code",
   "execution_count": 1,
   "metadata": {},
   "outputs": [],
   "source": [
    "import numpy as np"
   ]
  },
  {
   "cell_type": "code",
   "execution_count": 33,
   "metadata": {},
   "outputs": [],
   "source": [
    "enter = [9, 5, 7, 3, 10, 5, 3]"
   ]
  },
  {
   "cell_type": "code",
   "execution_count": 34,
   "metadata": {},
   "outputs": [],
   "source": [
    "def countingSort(enter):\n",
    "    \n",
    "    index = []\n",
    "    for i in range(int(min(enter)), int(max(enter))+1):\n",
    "        index.append(i) \n",
    "        \n",
    "    Count1 = {}                \n",
    "    for i in range(len(index)):\n",
    "        Count1[index[i]] = 0      \n",
    "    for i in range(len(enter)):\n",
    "        Count1[int(enter[i])] += 1\n",
    "      \n",
    "    sumCount = {}            \n",
    "    for i in range(len(Count1)):\n",
    "        if i == 0:\n",
    "            sumCount[index[i]] = Count1[index[i]]\n",
    "            \n",
    "        else:\n",
    "            sumCount[index[i]] = Count1[index[i]] + sumCount[index[i]-1]\n",
    "     \n",
    "    sort = [0]*len(enter)      \n",
    "    for i in range(len(sort)):\n",
    "        sort[sumCount[int(enter[i])]-1] = enter[i]\n",
    "        sumCount[int(enter[i])] -= 1\n",
    "             \n",
    "    return sort\n",
    "                 "
   ]
  },
  {
   "cell_type": "code",
   "execution_count": 35,
   "metadata": {},
   "outputs": [
    {
     "name": "stdout",
     "output_type": "stream",
     "text": [
      "[3, 3, 5, 5, 7, 9, 10]\n"
     ]
    }
   ],
   "source": [
    "print(countingSort(enter))"
   ]
  },
  {
   "cell_type": "markdown",
   "metadata": {},
   "source": [
    "#  letters in alphabetical order"
   ]
  },
  {
   "cell_type": "code",
   "execution_count": 36,
   "metadata": {},
   "outputs": [],
   "source": [
    "alpha = {1:'a', 2:'b', 3:'c', 4:'d', 5:'e', 6:'f', 7:'g', 8:'h', 9:'i', 10:'j', 11:'k', 12:'l', 13:'m', 14:'n',\n",
    "         15:'o', 16:'p', 17:'q', 18:'r', 19:'s', 20:'t', 21:'u', 22:'v', 23:'w', 24:'x', 25:'y', 26:'z'}\n",
    "\n",
    "alpha1 = {'a':1, 'c':2, 'b':3, 'e':4, 'd':5, 'g':6, 'f':7, 'i':8, 'h':9, 'k':10, 'j':11, 'm':12, 'l':13, 'o':14,\n",
    "         'n':15, 'q':16, 'p':17, 's':18, 'r':19, 'u':20, 't':21, 'w':22, 'v':23, 'y':24, 'x':25, 'z':26}"
   ]
  },
  {
   "cell_type": "code",
   "execution_count": 37,
   "metadata": {},
   "outputs": [],
   "source": [
    "l = ['q','w','e','r','t','y','u','i','o','p','a','s','d','f','g','h','j','k','l','z','x','c','v','b','n','m',]"
   ]
  },
  {
   "cell_type": "code",
   "execution_count": 38,
   "metadata": {},
   "outputs": [
    {
     "name": "stdout",
     "output_type": "stream",
     "text": [
      "['a', 'b', 'c', 'd', 'e', 'f', 'g', 'h', 'i', 'j', 'k', 'l', 'm', 'n', 'o', 'p', 'q', 'r', 's', 't', 'u', 'v', 'w', 'x', 'y', 'z']\n"
     ]
    }
   ],
   "source": [
    "num_l = []\n",
    "for i in l:\n",
    "    num_l.append(alpha1[i])\n",
    "\n",
    "sort_num_l = countingSort(num_l)\n",
    "sort_l = []\n",
    "for i in sort_num_l:\n",
    "    sort_l.append(alpha[i]) \n",
    "\n",
    "print(sort_l)\n"
   ]
  },
  {
   "cell_type": "markdown",
   "metadata": {},
   "source": [
    "# words in alphabetical order"
   ]
  },
  {
   "cell_type": "code",
   "execution_count": 39,
   "metadata": {},
   "outputs": [],
   "source": [
    "k = ['sapienza', 'data', 'science', 'mining', 'mini', 'aris']"
   ]
  },
  {
   "cell_type": "code",
   "execution_count": 40,
   "metadata": {},
   "outputs": [
    {
     "data": {
      "text/plain": [
       "[]"
      ]
     },
     "execution_count": 40,
     "metadata": {},
     "output_type": "execute_result"
    }
   ],
   "source": [
    "first = {}\n",
    "\n",
    "for word in k:\n",
    "    score = 0\n",
    "    for i in range(len(word)):\n",
    "        score += alpha1[word[i]]*10**(-i)\n",
    "    first[score] = word\n",
    "\n",
    "first2 = []\n",
    "for k in first.keys():\n",
    "    first2.append(k)\n",
    "    \n",
    "sort_first = countingSort(first2)\n",
    "sort_words = []\n",
    "for j in sort_first:\n",
    "    sort_l.append(first[j]) \n",
    "\n",
    "\n",
    "sort_words\n",
    "\n",
    "\n"
   ]
  },
  {
   "cell_type": "code",
   "execution_count": null,
   "metadata": {},
   "outputs": [],
   "source": []
  },
  {
   "cell_type": "code",
   "execution_count": null,
   "metadata": {},
   "outputs": [],
   "source": []
  },
  {
   "cell_type": "code",
   "execution_count": null,
   "metadata": {},
   "outputs": [],
   "source": []
  }
 ],
 "metadata": {
  "kernelspec": {
   "display_name": "Python 3",
   "language": "python",
   "name": "python3"
  },
  "language_info": {
   "codemirror_mode": {
    "name": "ipython",
    "version": 3
   },
   "file_extension": ".py",
   "mimetype": "text/x-python",
   "name": "python",
   "nbconvert_exporter": "python",
   "pygments_lexer": "ipython3",
   "version": "3.7.3"
  }
 },
 "nbformat": 4,
 "nbformat_minor": 2
}
