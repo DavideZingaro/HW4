{
 "cells": [
  {
   "cell_type": "markdown",
   "metadata": {},
   "source": [
    "# Counting sort\n"
   ]
  },
  {
   "cell_type": "markdown",
   "metadata": {},
   "source": [
    "this algorithm is based on this video\n",
    "https://www.youtube.com/watch?v=TTnvXY82dtM"
   ]
  },
  {
   "cell_type": "code",
   "execution_count": 1,
   "metadata": {},
   "outputs": [],
   "source": [
    "enter = [9, 5, 7, 3, 10, 5, 3]"
   ]
  },
  {
   "cell_type": "code",
   "execution_count": 2,
   "metadata": {},
   "outputs": [],
   "source": [
    "def countingSort(enter):\n",
    "    \n",
    "    # list of index (length from min value of enter to max)\n",
    "    index = []\n",
    "    for i in range(min(enter), max(enter)+1):\n",
    "        index.append(i) \n",
    "        \n",
    "    # dict with key:index, value: frequency of each number in enter   \n",
    "    Count1 = {}                \n",
    "    for i in range(len(index)):\n",
    "        Count1[index[i]] = 0      \n",
    "    for i in range(len(enter)):\n",
    "        Count1[enter[i]] += 1\n",
    "    \n",
    "    # dict with key: index of each number, value: index of each number plus index of the previus number\n",
    "    sumCount = {}            \n",
    "    for i in range(len(Count1)):\n",
    "        sumCount[index[i]] = Count1[index[i]]\n",
    "        if i != 0:\n",
    "            sumCount[index[i]] += sumCount[index[i]-1]\n",
    "    \n",
    "    # a list with sorted numbers\n",
    "    sort = [0]*len(enter)      \n",
    "    for i in range(len(sort)):\n",
    "        sort[sumCount[enter[i]]-1] = enter[i]\n",
    "        sumCount[enter[i]] -= 1\n",
    "             \n",
    "    return sort\n",
    "                 "
   ]
  },
  {
   "cell_type": "code",
   "execution_count": 6,
   "metadata": {},
   "outputs": [
    {
     "name": "stdout",
     "output_type": "stream",
     "text": [
      "[3, 3, 5, 5, 7, 9, 10]\n"
     ]
    }
   ],
   "source": [
    "print(countingSort(enter))"
   ]
  },
  {
   "cell_type": "markdown",
   "metadata": {},
   "source": [
    "#  Letters in alphabetical order"
   ]
  },
  {
   "cell_type": "code",
   "execution_count": 7,
   "metadata": {},
   "outputs": [],
   "source": [
    "alpha = {1:'a', 2:'b', 3:'c', 4:'d', 5:'e', 6:'f', 7:'g', 8:'h', 9:'i', 10:'j', 11:'k', 12:'l', 13:'m', 14:'n',\n",
    "         15:'o', 16:'p', 17:'q', 18:'r', 19:'s', 20:'t', 21:'u', 22:'v', 23:'w', 24:'x', 25:'y', 26:'z'}\n",
    "\n",
    "alpha1 = {'a':1, 'b':2, 'c':3, 'd':4, 'e':5, 'f':6, 'g':7, 'h':8, 'i':9, 'j':10, 'k':11, 'l':12, 'm':13, 'n':14,\n",
    "         'o':15, 'p':16, 'q':17, 'r':18, 's':19, 't':20, 'u':21, 'v':22, 'w':23, 'x':24, 'y':25, 'z':26}"
   ]
  },
  {
   "cell_type": "code",
   "execution_count": 8,
   "metadata": {},
   "outputs": [],
   "source": [
    "l = ['q','w','e','r','t','y','u','i','o','p','a','s','d','f','g','h','j','k','l','z','x','c','v','b','n','m',]"
   ]
  },
  {
   "cell_type": "code",
   "execution_count": 9,
   "metadata": {},
   "outputs": [],
   "source": [
    "def alphaSort(letters):\n",
    "    # using dicts alpha and alpha1 i created the fixed order of words in general\n",
    "    # then after the assignment \"word:value\" i can use the countingSort\n",
    "    num_l = []\n",
    "    for i in letters:\n",
    "        num_l.append(alpha1[i])\n",
    "\n",
    "    sort_num_l = countingSort(num_l)\n",
    "    sort_l = []\n",
    "    for i in sort_num_l:\n",
    "        sort_l.append(alpha[i]) \n",
    "\n",
    "    return sort_l\n"
   ]
  },
  {
   "cell_type": "code",
   "execution_count": 10,
   "metadata": {},
   "outputs": [
    {
     "name": "stdout",
     "output_type": "stream",
     "text": [
      "['a', 'b', 'c', 'd', 'e', 'f', 'g', 'h', 'i', 'j', 'k', 'l', 'm', 'n', 'o', 'p', 'q', 'r', 's', 't', 'u', 'v', 'w', 'x', 'y', 'z']\n"
     ]
    }
   ],
   "source": [
    "print(alphaSort(l))"
   ]
  },
  {
   "cell_type": "markdown",
   "metadata": {},
   "source": [
    "# Complexity(aplhaSort)"
   ]
  },
  {
   "cell_type": "markdown",
   "metadata": {},
   "source": [
    "### Theoretically"
   ]
  },
  {
   "cell_type": "markdown",
   "metadata": {},
   "source": [
    "countingSort():\n",
    "- 1st for --> n (where n is the difference between the biggest number and the smallest one)\n",
    "- 2nd for --> n (cause this for is scanning through 'index'(lenght n))\n",
    "- 3rd for --> it is scannung through 'enter' and len(enter) = m\n",
    "- 4th for --> it is scanning through 'Count1'(lenght n)\n",
    "- 5th for --> it is scanning through 'sort'(lenght n)\n",
    "\n",
    "##### so the complexity is O(3n + 2m) --> O(n)\n",
    "-------------------------------------------------\n",
    "\n",
    "alphaSort():\n",
    "- 1st for --> it is scanning through 'letters' (lenght n)\n",
    "- then n --> the complexity of countingSort()\n",
    "- 2nd for --> n cause it is scanning through the same lenght of letter \n",
    "\n",
    "###### so the complexity is O(2n) + O(n) = O(n)\n"
   ]
  },
  {
   "cell_type": "markdown",
   "metadata": {},
   "source": [
    "### Empirically"
   ]
  },
  {
   "cell_type": "markdown",
   "metadata": {},
   "source": [
    "Since the code has to scan all the elements of the input vector, the theoretically complexity and the empirically one are the same."
   ]
  },
  {
   "cell_type": "markdown",
   "metadata": {},
   "source": [
    "# Words in alphabetical order"
   ]
  },
  {
   "cell_type": "code",
   "execution_count": 11,
   "metadata": {},
   "outputs": [],
   "source": [
    "def sortWords(words):\n",
    "    # just one word\n",
    "    if len(words) <= 1:\n",
    "        return words\n",
    "\n",
    "    sort1 = []\n",
    "\n",
    "    for i in range(len(words)): \n",
    "        if i == 0: # first word has no reference to be sorted so just appending\n",
    "            sort1.append(words[i])\n",
    "        else:\n",
    "            # sorting words 2 by 2\n",
    "            for k in range(len(sort1)):\n",
    "                j = 0\n",
    "                # if the first letters are the same then go to the first 2 different letters\n",
    "                while j < len(words[i])-1 and j < len(sort1[k])-1 and words[i][j] == sort1[k][j]:\n",
    "                    j += 1\n",
    "                \n",
    "                # all rules to follow in order to sort the words\n",
    "                \n",
    "                # oak, oak hill\n",
    "                if sort1[k][j] == ' ' and words[i][j] != ' ':\n",
    "                    sort_l = [sort1[k], words[i]]\n",
    "                    if k == len(sort1)-1:\n",
    "                        sort1.append(words[i])\n",
    "                        break           \n",
    "      \n",
    "                elif sort1[k][j] != ' ' and words[i][j] == ' ':\n",
    "                    sort_l = [words[i], sort1[k]]\n",
    "                    sort1.insert(k, words[i])\n",
    "                    break\n",
    "\n",
    "                # be, been\n",
    "                elif j == len(sort1[k])-1 and j != len(words[i])-1 and words[i][j] == sort1[k][j]:\n",
    "                    sort_l = [sort1[k], words[i]] \n",
    "                    if k == len(sort1)-1:\n",
    "                        sort1.append(words[i])\n",
    "                        break           \n",
    "\n",
    "                elif j != len(sort1[k])-1 and j == len(words[i])-1 and words[i][j] == sort1[k][j]:\n",
    "                    sort_l = [words[i], sort1[k]]\n",
    "                    sort1.insert(k, words[i])\n",
    "                    break\n",
    "                \n",
    "                # for two different letters\n",
    "                else:\n",
    "                    l = [words[i][j], sort1[k][j]]\n",
    "                    sort_l = alphaSort(l) # sort them using alphaSort\n",
    "                    \n",
    "                    if sort_l == l:\n",
    "                        sort1.insert(k, words[i])\n",
    "                        break\n",
    "                    else:\n",
    "                        if k == len(sort1)-1:\n",
    "                            sort1.append(words[i])\n",
    "                            break                \n",
    "\n",
    "    return sort1\n",
    "                    "
   ]
  },
  {
   "cell_type": "code",
   "execution_count": 12,
   "metadata": {},
   "outputs": [
    {
     "data": {
      "text/plain": [
       "['a',\n",
       " 'aris',\n",
       " 'be',\n",
       " 'been',\n",
       " 'oak',\n",
       " 'oak hill',\n",
       " 'oak ridge',\n",
       " 'oakley park',\n",
       " 'oakley river',\n",
       " 'oasis',\n",
       " 'ok',\n",
       " 'sapienza']"
      ]
     },
     "execution_count": 12,
     "metadata": {},
     "output_type": "execute_result"
    }
   ],
   "source": [
    "k = ['oak hill','a', 'oakley park', 'aris', 'sapienza', 'ok', 'oakley river', 'oasis', 'oak ridge', 'oak', 'been', 'be']\n",
    "sortWords(k)"
   ]
  },
  {
   "cell_type": "markdown",
   "metadata": {},
   "source": [
    "# Complexity(sortWords)"
   ]
  },
  {
   "cell_type": "markdown",
   "metadata": {},
   "source": [
    "### Theoretically"
   ]
  },
  {
   "cell_type": "markdown",
   "metadata": {},
   "source": [
    "alphaSort():\n",
    "- 1st for --> it is scanning through 'letters' (lenght n)\n",
    "- then n --> the complexity of countingSort()\n",
    "- 2nd for --> n cause it is scanning through the same lenght of letter \n",
    "\n",
    "##### so the complexity is O(2n) + O(n) = O(n)\n",
    "------------------------------------\n",
    "\n",
    "sortWords():\n",
    "- 1st for: it scan through words(lenght n)\n",
    "- 2nd for: it's called n times and it scan through all the elements of 'sort1', so n*k whre k <= n --> n^2\n",
    "- 1st while: it's called n^2 times and it scan through max m, where m is the lenght of the longest words in the list\n",
    "- alphaSort() = it's called n^2 times and it has a complexity of n(as described before), so n^3\n",
    "\n",
    "##### so the complexity is O(2*m*n^2) = O(mn^2)\n"
   ]
  },
  {
   "cell_type": "markdown",
   "metadata": {},
   "source": [
    "### Empirically"
   ]
  },
  {
   "cell_type": "markdown",
   "metadata": {},
   "source": [
    "the empirically complexity needs an assumption:\n",
    "- if the lenght of the list of words goes to infinite, m << n, so we can consider m not influence\n",
    "\n",
    "###### then the empirically complexity is O(n^2)\n",
    "------------------------------------------------\n",
    "- if m == n\n",
    "\n",
    "###### then the empirically complexity is O(n^3)\n",
    "------------------------------------------------\n",
    "- if m >> n \n",
    "\n",
    "###### then the empiricallu complexity is O(m)"
   ]
  }
 ],
 "metadata": {
  "kernelspec": {
   "display_name": "Python 3",
   "language": "python",
   "name": "python3"
  },
  "language_info": {
   "codemirror_mode": {
    "name": "ipython",
    "version": 3
   },
   "file_extension": ".py",
   "mimetype": "text/x-python",
   "name": "python",
   "nbconvert_exporter": "python",
   "pygments_lexer": "ipython3",
   "version": "3.7.3"
  }
 },
 "nbformat": 4,
 "nbformat_minor": 2
}
