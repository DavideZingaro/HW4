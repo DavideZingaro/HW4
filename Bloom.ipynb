{
  "nbformat": 4,
  "nbformat_minor": 0,
  "metadata": {
    "kernelspec": {
      "display_name": "Python 3",
      "language": "python",
      "name": "python3"
    },
    "language_info": {
      "codemirror_mode": {
        "name": "ipython",
        "version": 3
      },
      "file_extension": ".py",
      "mimetype": "text/x-python",
      "name": "python",
      "nbconvert_exporter": "python",
      "pygments_lexer": "ipython3",
      "version": "3.7.3"
    },
    "colab": {
      "name": "Bloom.ipynb",
      "provenance": [],
      "collapsed_sections": []
    }
  },
  "cells": [
    {
      "cell_type": "code",
      "metadata": {
        "id": "vYDxXV0AbOWP",
        "colab_type": "code",
        "colab": {}
      },
      "source": [
        "#Imports\n",
        "import numpy as np\n",
        "import time"
      ],
      "execution_count": 0,
      "outputs": []
    },
    {
      "cell_type": "code",
      "metadata": {
        "id": "wl4AVzAnbOWb",
        "colab_type": "code",
        "colab": {}
      },
      "source": [
        "#Defining 7 Hash Functions\n",
        "def hash1(astring, tablesize):\n",
        "    sum = 0\n",
        "    for pos in range(len(astring)):\n",
        "        sum = sum + ord(astring[pos])\n",
        "    return sum%tablesize\n",
        "def hash2(astring, tablesize):\n",
        "    sum = 0\n",
        "    for pos in range(len(astring)):\n",
        "        if pos%2 == 0:\n",
        "            sum = sum + ord(astring[pos])\n",
        "    return sum%tablesize\n",
        "def hash3(astring, tablesize):\n",
        "    sum = 0\n",
        "    for pos in range(len(astring)):\n",
        "        if pos%2 == 1:\n",
        "            sum = sum + ord(astring[pos])\n",
        "    return sum%tablesize\n",
        "def hash4(astring, tablesize):\n",
        "    sum = 0\n",
        "    for pos in range(len(astring)):\n",
        "        sum = sum + ord(astring[pos])**2\n",
        "    return sum%tablesize\n",
        "def hash5(astring, tablesize):\n",
        "    sum = 0\n",
        "    for pos in range(len(astring)):\n",
        "        if pos%2 == 0:\n",
        "            sum = sum + ord(astring[pos])**2\n",
        "    return sum%tablesize\n",
        "def hash6(astring, tablesize):\n",
        "    sum = 0\n",
        "    for pos in range(len(astring)):\n",
        "        if pos%2 == 1:\n",
        "            sum = sum + ord(astring[pos])**2\n",
        "    return sum%tablesize\n",
        "def hash7(astring, tablesize):\n",
        "    sum = 0\n",
        "    for pos in range(len(astring)):\n",
        "        if pos%2 == 1:\n",
        "            sum = sum + ord(astring[pos])**3\n",
        "    return sum%tablesize"
      ],
      "execution_count": 0,
      "outputs": []
    },
    {
      "cell_type": "code",
      "metadata": {
        "id": "r6zLqWdCbOWf",
        "colab_type": "code",
        "colab": {}
      },
      "source": [
        "#Filter Function Arguments two passwords list and then size of the Filter\n",
        "def BloomFilter(passwords1, passwords2,m):\n",
        "    #size1 = len(passwords1)\n",
        "    #size2 = len(passwords2)\n",
        "    start = time.time()\n",
        "    #creating Bloom Filter initially everything will be 0\n",
        "    Filter = np.array([0]*m)\n",
        "    #creating another structure to store like hash table \n",
        "    Table = {}\n",
        "    #duplicates of first passwords set if any\n",
        "    Duplicates=0\n",
        "    #false positive count\n",
        "    false=0\n",
        "    #passwords possibly present in the filter counter\n",
        "    maybe=0\n",
        "    #passwords present in the filter counter\n",
        "    positive=0\n",
        "    # add all passwords1 to the filter\n",
        "    for i in range(0,size1):\n",
        "        temp=[]\n",
        "        temp.append(hash1(passwords1[i],m))\n",
        "        temp.append(hash2(passwords1[i],m))\n",
        "        temp.append(hash3(passwords1[i],m))\n",
        "        temp.append(hash4(passwords1[i],m))\n",
        "        temp.append(hash5(passwords1[i],m))\n",
        "        temp.append(hash6(passwords1[i],m))\n",
        "        temp.append(hash7(passwords1[i],m))\n",
        "        temp.sort()\n",
        "        #checking in Filter making the counter of the each position plus 1\n",
        "        for t in temp:\n",
        "            Filter[t]+=1\n",
        "        #Making Key for store into hash table(Hash Key, here using \",\" to join to avoid collision of repeted hash values )\n",
        "        key = \",\".join(map(str,temp))\n",
        "        #look up into the Hash Table to store in value\n",
        "        if key in Table.keys():\n",
        "            #if the value present in Hash Table increase duplicate count otherwise add it to the structure\n",
        "            if passowrds1[i] not in Table[key]:\n",
        "                Table[key].append(passwords1[i])\n",
        "            else:\n",
        "                Duplicates+=1\n",
        "        else:\n",
        "            Table[key]=[passwords1[i]]\n",
        "    # check all passwords2 presence in the filter\n",
        "    for i in range(0,size2):\n",
        "        temp=[]\n",
        "        #getting all hash values of each passwords\n",
        "        temp.append(hash1(passwords2[i],m))\n",
        "        temp.append(hash2(passwords2[i],m))\n",
        "        temp.append(hash3(passwords2[i],m))\n",
        "        temp.append(hash4(passwords2[i],m))\n",
        "        temp.append(hash5(passwords2[i],m))\n",
        "        temp.append(hash6(passwords2[i],m))\n",
        "        temp.append(hash7(passwords2[i],m))\n",
        "        temp.sort()\n",
        "        #making key to look up into structure to check whether element actually present in the table or not\n",
        "        key = \",\".join(map(str,temp))\n",
        "        #flag to check whether all the hash values are 1 and above\n",
        "        f=0 \n",
        "        for t in temp:\n",
        "            if Filter[t]<1:\n",
        "                f+=1\n",
        "        #only if all the values are 1 count the possibly present counter\n",
        "        if f==0:\n",
        "            maybe+=1\n",
        "            if key in Table.keys():",
        "               #if the value present in the tables actually increase password present in filter counter\n",
        "               if passwords2[i] in Table[key]:\n",
        "                   positive+=1\n",
        "               #otherwise its false positive increase that counter\n",
        "               else:\n",
        "                   false+=1\n",
        "            else:",
        "               false+=1",
        "    end = time.time()\n",
        "    #print(end-start)\n",
        "    #print(Table)\n",
        "    #print(Filter)\n",
        "    # printing the final results including time taken\n",
        "    print('Number of hash function used: ', k)\n",
        "    print('Number of duplicates detected: ', Duplicates)\n",
        "    print('Probability of false positives: ', p)\n",
        "    print('Number of passwords may be in Filter: ', maybe)\n",
        "    print('Number of False Positive detected: ', false)\n",
        "    print('Number of Positive detected: ', Positive)\n",
        "    print('Execution time: ', end-start)\n",
        "    "
      ],
      "execution_count": 0,
      "outputs": []
    },
    {
      "cell_type": "code",
      "metadata": {
        "id": "I2aKMkSZbOWj",
        "colab_type": "code",
        "colab": {}
      },
      "source": [
        "#opening two files and reading \n",
        "with open(\"passwords1.txt\",\"r\") as p1:\n",
        "    passwords1 = p1.read()\n",
        "with open(\"passwords2.txt\",\"r\") as p2:\n",
        "    passwords2 = p2.read()"
      ],
      "execution_count": 0,
      "outputs": []
    },
    {
      "cell_type": "code",
      "metadata": {
        "id": "zkJ5r-zHbOWm",
        "colab_type": "code",
        "colab": {}
      },
      "source": [
        "#making into a list of passwords\n",
        "passwords1 = passwords1.split()\n",
        "passwords2 = passwords2.split()"
      ],
      "execution_count": 0,
      "outputs": []
    },
    {
      "cell_type": "code",
      "metadata": {
        "id": "LwpkuLwIbOWq",
        "colab_type": "code",
        "outputId": "7ad71004-1e92-4dfd-f0ee-f584b28bfe14",
        "colab": {}
      },
      "source": [
        "len(passwords1)"
      ],
      "execution_count": 0,
      "outputs": [
        {
          "output_type": "execute_result",
          "data": {
            "text/plain": [
              "100000000"
            ]
          },
          "metadata": {
            "tags": []
          },
          "execution_count": 3
        }
      ]
    },
    {
      "cell_type": "code",
      "metadata": {
        "id": "FKpzqNkcbOWu",
        "colab_type": "code",
        "outputId": "a2936f6e-c2f7-42da-ec96-3c2ba628195d",
        "colab": {}
      },
      "source": [
        "len(passwords2)"
      ],
      "execution_count": 0,
      "outputs": [
        {
          "output_type": "execute_result",
          "data": {
            "text/plain": [
              "39000000"
            ]
          },
          "metadata": {
            "tags": []
          },
          "execution_count": 4
        }
      ]
    },
    {
      "cell_type": "code",
      "metadata": {
        "id": "tjOjSW3FbOWx",
        "colab_type": "code",
        "colab": {}
      },
      "source": [
        "#as it is taking more time to calculate I have assign it manually and globally it will be accessible inside the method also\n",
        "n = size1 = 100000000 #len(passwords1) \n",
        "size2 = 39000000 #len(passwords2)"
      ],
      "execution_count": 0,
      "outputs": []
    },
    {
      "cell_type": "code",
      "metadata": {
        "id": "uhRMbW4FbOWz",
        "colab_type": "code",
        "colab": {}
      },
      "source": [
        "#probability of false positive result\n",
        "p = 0.01"
      ],
      "execution_count": 0,
      "outputs": []
    },
    {
      "cell_type": "code",
      "metadata": {
        "id": "KZRHJPSNbOW2",
        "colab_type": "code",
        "outputId": "77e8fcf6-8970-4e7d-9705-cf46a3a43b88",
        "colab": {}
      },
      "source": [
        "#size of the Bloom filter by using formula\n",
        "m = int(round(-(n*np.log(p))/(np.log(2))**2))\n",
        "m"
      ],
      "execution_count": 0,
      "outputs": [
        {
          "output_type": "execute_result",
          "data": {
            "text/plain": [
              "958505838"
            ]
          },
          "metadata": {
            "tags": []
          },
          "execution_count": 35
        }
      ]
    },
    {
      "cell_type": "code",
      "metadata": {
        "id": "74qx-Y7FbOW5",
        "colab_type": "code",
        "outputId": "870a4fde-d2a1-4c8a-c222-5418626b114f",
        "colab": {}
      },
      "source": [
        "# Number of hash functions needed in order to achieve that percentage of false positive probability\n",
        "k = int(round((m/n)*np.log(2)))\n",
        "k"
      ],
      "execution_count": 0,
      "outputs": [
        {
          "output_type": "execute_result",
          "data": {
            "text/plain": [
              "7"
            ]
          },
          "metadata": {
            "tags": []
          },
          "execution_count": 34
        }
      ]
    },
    {
      "cell_type": "code",
      "metadata": {
        "id": "W4DdL8YzbOW8",
        "colab_type": "code",
        "colab": {}
      },
      "source": [
        "a=['!@#$%^&*()~!@#$%^*&@','!@#$%^&*()~!789%^*&@','!@#$%^&*()~!123%^*&@','!@#$%^&*()~112$%^*&@','!@#$%^&*cdf#$%^*&@','!@#$%^&*abcde$%^*&@3','!@#$%^ab()~!@#$%^*&@','!@#$%^&*ab~!@#$%^*&@']\n",
        "b=['!@#$%^&*()~!@#$%^*&@','!@#$%^&*()~!789%^*&@']"
      ],
      "execution_count": 0,
      "outputs": []
    },
    {
      "cell_type": "code",
      "metadata": {
        "id": "btV5FfilbOXF",
        "colab_type": "code",
        "outputId": "a1994aa2-6899-4958-d911-94c4ad277916",
        "colab": {}
      },
      "source": [
        "#calling the BloomFilter method to perform all activity # below is the result of the above a and b list of passwords which i ran for understanding with filter size of 50\n",
        "BloomFilter(passwords1,passwords2 ,m)"
      ],
      "execution_count": 0,
      "outputs": [
        {
          "output_type": "stream",
          "text": [
            "0.0\n",
            "{'16,25,29,38,40,41,41': ['!@#$%^&*()~!@#$%^*&@'], '3,7,9,12,27,31,34': ['!@#$%^&*()~!789%^*&@'], '3,15,26,35,41,41,44': ['!@#$%^&*()~!123%^*&@'], '3,19,26,27,30,33,45': ['!@#$%^&*()~112$%^*&@'], '4,8,12,14,26,32,46': ['!@#$%^&*cdf#$%^*&@'], '3,17,23,27,33,36,40': ['!@#$%^&*abcde$%^*&@3'], '0,6,40,44,44,44,46': ['!@#$%^ab()~!@#$%^*&@'], '11,23,34,39,43,45,48': ['!@#$%^&*ab~!@#$%^*&@']}\n",
            "[1 0 0 4 1 0 1 1 1 1 0 1 2 0 1 1 1 1 0 1 0 0 0 2 0 1 3 3 0 1 1 1 1 2 2 1 1\n",
            " 0 1 1 3 4 0 1 4 2 2 0 1 0]\n"
          ],
          "name": "stdout"
        }
      ]
    }
  ]
}
