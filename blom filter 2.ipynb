{
 "cells": [
  {
   "cell_type": "code",
   "execution_count": 1,
   "metadata": {},
   "outputs": [],
   "source": [
    "import numpy as np\n",
    "import time\n",
    "import random"
   ]
  },
  {
   "cell_type": "code",
   "execution_count": 2,
   "metadata": {},
   "outputs": [],
   "source": [
    "n = size1 = 100000000 \n",
    "size2 = 39000000"
   ]
  },
  {
   "cell_type": "code",
   "execution_count": 3,
   "metadata": {},
   "outputs": [
    {
     "name": "stdout",
     "output_type": "stream",
     "text": [
      "623522423\n",
      "4\n"
     ]
    }
   ],
   "source": [
    "#probability of false positive result\n",
    "p = 0.05\n",
    "\n",
    "#size of the Bloom filter by using formula\n",
    "m = int(np.ceil(-(n*np.log(p))/(np.log(2))**2))\n",
    "print(m)\n",
    "\n",
    "# Number of hash functions needed in order to achieve that percentage of false positive probability\n",
    "k = int(round((m/n)*np.log(2)))\n",
    "print(k)"
   ]
  },
  {
   "cell_type": "code",
   "execution_count": 4,
   "metadata": {},
   "outputs": [],
   "source": [
    "#Defining k=4 Hash Functions \n",
    "coef1 = random.choices(range(m), k = 20)\n",
    "def hash1(astring, tablesize):\n",
    "    sums = 0\n",
    "    for pos in range(len(astring)-1):\n",
    "        sums += coef1[pos]*ord(astring[pos])\n",
    "    return sums%tablesize\n",
    "\n",
    "coef2 = random.choices(range(m), k = 20)\n",
    "def hash2(astring, tablesize):\n",
    "    sums = 0\n",
    "    for pos in range(len(astring)-1):\n",
    "        sums += coef2[pos]*ord(astring[pos])\n",
    "    return sums%tablesize\n",
    "\n",
    "coef3 = random.choices(range(m), k = 20)\n",
    "def hash3(astring, tablesize):\n",
    "    sums = 0\n",
    "    for pos in range(len(astring)-1):\n",
    "        sums += coef3[pos]*ord(astring[pos])\n",
    "    return sums%tablesize\n",
    "\n",
    "coef4 = random.choices(range(m), k = 20)\n",
    "def hash4(astring, tablesize):\n",
    "    sums = 0\n",
    "    for pos in range(len(astring)-1):\n",
    "        sums += coef4[pos]*ord(astring[pos])\n",
    "    return sums%tablesize"
   ]
  },
  {
   "cell_type": "code",
   "execution_count": 5,
   "metadata": {},
   "outputs": [],
   "source": [
    "#Filter Function Arguments two passwords list and then size of the Filter\n",
    "def BloomFilter(m):\n",
    "    #size1 = len(passwords1)\n",
    "    #size2 = len(passwords2)\n",
    "    start = time.time()\n",
    "    #creating Bloom Filter initially everything will be 0\n",
    "    Filter = np.zeros(m)\n",
    "    #passwords possibly present in the filter counter probably duplicates\n",
    "    maybe=0\n",
    "    # add all passwords1 to the filter\n",
    "    file1 = open(\"passwords1.txt\", \"r\")\n",
    "    line = file1.readline().strip()\n",
    "    while line:\n",
    "        if Filter[hash1(line,m)] == 0:\n",
    "            Filter[hash1(line,m)] = 1\n",
    "            \n",
    "        if Filter[hash2(line,m)] == 0:\n",
    "            Filter[hash2(line,m)] = 1\n",
    "            \n",
    "        if Filter[hash3(line,m)] == 0:\n",
    "            Filter[hash3(line,m)] = 1\n",
    "            \n",
    "        if Filter[hash4(line,m)] == 0:\n",
    "            Filter[hash4(line,m)] = 1\n",
    "    \n",
    "        line = file1.readline().strip()\n",
    "        \n",
    "        \n",
    "    \n",
    "    file1.close()\n",
    "    # check all passwords2 presence in the filter\n",
    "    file2 = open(\"passwords2.txt\", \"r\")\n",
    "    line2 = file2.readline().strip()\n",
    "    while line2:\n",
    "        #getting all hash values of each passwords\n",
    "        f = 0\n",
    "        if Filter[hash1(line2,m)] == 0:\n",
    "            f +=1\n",
    "        if Filter[hash2(line2,m)] == 0:\n",
    "            f +=1\n",
    "        if Filter[hash3(line2,m)] == 0:\n",
    "            f +=1\n",
    "        if Filter[hash4(line2,m)] == 0:\n",
    "            f +=1\n",
    "            \n",
    "        j += 1\n",
    "        line2 = file2.readline().strip()\n",
    "         \n",
    "        #only if all the values are 1(f==0) there is a duplicate\n",
    "        if f == 0:\n",
    "            maybe += 1\n",
    "        else:\n",
    "            pass\n",
    "            \n",
    "    file2.close()\n",
    "    end = time.time()\n",
    "    # printing the final results including time taken\n",
    "    print('Number of hash function used: ', k)\n",
    "    print('Number of duplicates detected: ', maybe)\n",
    "    print('Probability of false positives: ', p)\n",
    "    print('Execution time: ', end-start)"
   ]
  },
  {
   "cell_type": "code",
   "execution_count": 6,
   "metadata": {},
   "outputs": [
    {
     "name": "stdout",
     "output_type": "stream",
     "text": [
      "0\n",
      "39000000\n",
      "Number of hash function used:  4\n",
      "Number of duplicates detected:  15257051\n",
      "Probability of false positives:  0.05\n",
      "Execution time:  3865.0093734264374\n"
     ]
    }
   ],
   "source": [
    "#calling the BloomFilter method to perform all activity\n",
    "BloomFilter(m)"
   ]
  },
  {
   "cell_type": "code",
   "execution_count": null,
   "metadata": {},
   "outputs": [],
   "source": []
  }
 ],
 "metadata": {
  "kernelspec": {
   "display_name": "Python 3",
   "language": "python",
   "name": "python3"
  },
  "language_info": {
   "codemirror_mode": {
    "name": "ipython",
    "version": 3
   },
   "file_extension": ".py",
   "mimetype": "text/x-python",
   "name": "python",
   "nbconvert_exporter": "python",
   "pygments_lexer": "ipython3",
   "version": "3.7.3"
  }
 },
 "nbformat": 4,
 "nbformat_minor": 2
}
